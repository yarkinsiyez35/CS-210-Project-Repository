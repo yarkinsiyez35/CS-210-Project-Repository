{
  "cells": [
    {
      "attachments": {},
      "cell_type": "markdown",
      "metadata": {},
      "source": [
        "IMPORTING LIBRARIES"
      ]
    },
    {
      "cell_type": "code",
      "execution_count": 1,
      "metadata": {
        "id": "tjFWOYe-rtqj"
      },
      "outputs": [],
      "source": [
        "from bs4 import BeautifulSoup\n",
        "from selenium import webdriver\n",
        "import requests\n",
        "import pandas as pd "
      ]
    },
    {
      "attachments": {},
      "cell_type": "markdown",
      "metadata": {},
      "source": [
        "SENDING REQUEST"
      ]
    },
    {
      "cell_type": "code",
      "execution_count": 7,
      "metadata": {},
      "outputs": [],
      "source": [
        "driver = webdriver.Chrome()\n",
        "driver.get(\"https://covid19.saglik.gov.tr/TR-66935/genel-koronavirus-tablosu.html\")\n",
        "driver.implicitly_wait(10)\n",
        "html = driver.page_source\n",
        "soup = BeautifulSoup(html, \"html.parser\")                      #this will be used for the body content of the table \n",
        "driver.quit()\n"
      ]
    },
    {
      "attachments": {},
      "cell_type": "markdown",
      "metadata": {},
      "source": [
        "GETTING THE CONTENT FOR THE FIRST TABLE"
      ]
    },
    {
      "attachments": {},
      "cell_type": "markdown",
      "metadata": {},
      "source": [
        "Finding the column names of the first table "
      ]
    },
    {
      "cell_type": "code",
      "execution_count": 8,
      "metadata": {},
      "outputs": [
        {
          "name": "stdout",
          "output_type": "stream",
          "text": [
            "<tr class=\"sticky-header\">\n",
            "<th style=\"top: 0px;\">Tarih</th>\n",
            "<th style=\"top: 0px;\">Vaka Sayısı</th>\n",
            "<th style=\"top: 0px;\">Vefat Sayısı</th>\n",
            "<th style=\"top: 0px;\">İyileşen Sayısı</th>\n",
            "<th style=\"top: 0px;\">Toplam Vaka Sayısı</th>\n",
            "<th style=\"top: 0px;\">Toplam Vefat Sayısı</th>\n",
            "</tr>\n"
          ]
        }
      ],
      "source": [
        "print(soup.find(\"tr\", {\"class\": \"sticky-header\"}))"
      ]
    },
    {
      "cell_type": "code",
      "execution_count": 9,
      "metadata": {},
      "outputs": [
        {
          "name": "stdout",
          "output_type": "stream",
          "text": [
            "['Tarih', 'Vaka Sayısı', 'Vefat Sayısı', 'İyileşen Sayısı', 'Toplam Vaka Sayısı', 'Toplam Vefat Sayısı']\n"
          ]
        }
      ],
      "source": [
        "header = soup.find(\"tr\", {\"class\": \"sticky-header\"}).findAll(\"th\")\n",
        "headerText = [entry.text for entry in header]\n",
        "print(headerText)"
      ]
    },
    {
      "attachments": {},
      "cell_type": "markdown",
      "metadata": {},
      "source": [
        "Finding the content of the first table "
      ]
    },
    {
      "cell_type": "code",
      "execution_count": 14,
      "metadata": {},
      "outputs": [
        {
          "name": "stdout",
          "output_type": "stream",
          "text": [
            "{'Tarih': ' 14 - 27 Kasım 2022 ', 'Vaka Sayısı': ' 37.185 ', 'Vefat Sayısı': ' 92 ', 'İyileşen Sayısı': ' 21.052 ', 'Toplam Vaka Sayısı': ' 17.042.722 ', 'Toplam Vefat Sayısı': ' 101.492 '}\n"
          ]
        }
      ],
      "source": [
        "table = soup.find(\"tbody\", {\"id\" : \"haftalikveriler\"})\n",
        "rows = []\n",
        "for entry in table.findAll(\"tr\"):\n",
        "    row = dict(zip(headerText, [value.text for value in entry.findAll(\"td\")]))\n",
        "    rows.append(row)\n",
        "\n",
        "print(rows[0])"
      ]
    },
    {
      "attachments": {},
      "cell_type": "markdown",
      "metadata": {},
      "source": [
        "Creating the dataframe"
      ]
    },
    {
      "cell_type": "code",
      "execution_count": 15,
      "metadata": {},
      "outputs": [
        {
          "data": {
            "text/html": [
              "<div>\n",
              "<style scoped>\n",
              "    .dataframe tbody tr th:only-of-type {\n",
              "        vertical-align: middle;\n",
              "    }\n",
              "\n",
              "    .dataframe tbody tr th {\n",
              "        vertical-align: top;\n",
              "    }\n",
              "\n",
              "    .dataframe thead th {\n",
              "        text-align: right;\n",
              "    }\n",
              "</style>\n",
              "<table border=\"1\" class=\"dataframe\">\n",
              "  <thead>\n",
              "    <tr style=\"text-align: right;\">\n",
              "      <th></th>\n",
              "      <th>Tarih</th>\n",
              "      <th>Vaka Sayısı</th>\n",
              "      <th>Vefat Sayısı</th>\n",
              "      <th>İyileşen Sayısı</th>\n",
              "      <th>Toplam Vaka Sayısı</th>\n",
              "      <th>Toplam Vefat Sayısı</th>\n",
              "    </tr>\n",
              "  </thead>\n",
              "  <tbody>\n",
              "    <tr>\n",
              "      <th>0</th>\n",
              "      <td>14 - 27 Kasım 2022</td>\n",
              "      <td>37.185</td>\n",
              "      <td>92</td>\n",
              "      <td>21.052</td>\n",
              "      <td>17.042.722</td>\n",
              "      <td>101.492</td>\n",
              "    </tr>\n",
              "    <tr>\n",
              "      <th>1</th>\n",
              "      <td>31 Ekim - 13 Kasım 2022</td>\n",
              "      <td>28.808</td>\n",
              "      <td>73</td>\n",
              "      <td>16.897</td>\n",
              "      <td>17.005.537</td>\n",
              "      <td>101.400</td>\n",
              "    </tr>\n",
              "    <tr>\n",
              "      <th>2</th>\n",
              "      <td>17- 30 Ekim 2022</td>\n",
              "      <td>22.887</td>\n",
              "      <td>64</td>\n",
              "      <td>23.101</td>\n",
              "      <td>16.976.729</td>\n",
              "      <td>101.327</td>\n",
              "    </tr>\n",
              "    <tr>\n",
              "      <th>3</th>\n",
              "      <td>3 Ekim - 16 Ekim 2022</td>\n",
              "      <td>34.204</td>\n",
              "      <td>60</td>\n",
              "      <td>34.627</td>\n",
              "      <td>16.953.842</td>\n",
              "      <td>101.263</td>\n",
              "    </tr>\n",
              "    <tr>\n",
              "      <th>4</th>\n",
              "      <td>26 Eylül - 2 Ekim 2022</td>\n",
              "      <td>23.116</td>\n",
              "      <td>24</td>\n",
              "      <td>19.364</td>\n",
              "      <td>16.919.638</td>\n",
              "      <td>101.203</td>\n",
              "    </tr>\n",
              "  </tbody>\n",
              "</table>\n",
              "</div>"
            ],
            "text/plain": [
              "                       Tarih Vaka Sayısı Vefat Sayısı İyileşen Sayısı   \n",
              "0        14 - 27 Kasım 2022      37.185           92          21.052   \\\n",
              "1   31 Ekim - 13 Kasım 2022      28.808           73          16.897    \n",
              "2          17- 30 Ekim 2022      22.887           64          23.101    \n",
              "3     3 Ekim - 16 Ekim 2022      34.204           60          34.627    \n",
              "4    26 Eylül - 2 Ekim 2022      23.116           24          19.364    \n",
              "\n",
              "  Toplam Vaka Sayısı Toplam Vefat Sayısı  \n",
              "0        17.042.722             101.492   \n",
              "1        17.005.537             101.400   \n",
              "2        16.976.729             101.327   \n",
              "3        16.953.842             101.263   \n",
              "4        16.919.638             101.203   "
            ]
          },
          "execution_count": 15,
          "metadata": {},
          "output_type": "execute_result"
        }
      ],
      "source": [
        "WeeklyStatisticDataFrame = pd.DataFrame(rows)\n",
        "WeeklyStatisticDataFrame.head()"
      ]
    },
    {
      "attachments": {},
      "cell_type": "markdown",
      "metadata": {},
      "source": [
        "Storing the dataframe as an excel file "
      ]
    },
    {
      "cell_type": "code",
      "execution_count": 16,
      "metadata": {},
      "outputs": [],
      "source": [
        "WeeklyStatisticDataFrame.to_excel(\"Weekly_COVID19_Data.xlsx\",index = False)"
      ]
    },
    {
      "attachments": {},
      "cell_type": "markdown",
      "metadata": {},
      "source": [
        "GETTING THE SECOND TABLE"
      ]
    },
    {
      "attachments": {},
      "cell_type": "markdown",
      "metadata": {},
      "source": [
        "Finding the column names in the second table "
      ]
    },
    {
      "cell_type": "code",
      "execution_count": 17,
      "metadata": {},
      "outputs": [
        {
          "name": "stdout",
          "output_type": "stream",
          "text": [
            "['Tarih', 'Toplam Test Sayısı', 'Toplam Vaka Sayısı', 'Toplam Vefat Sayısı', 'Hastalarda Zatürre Oranı (%)', 'Ağır Hasta Sayısı', 'Toplam İyileşen Hasta Sayısı', 'Bugünkü Vaka Sayısı', 'Bugünkü Hasta Sayısı', 'Bugünkü Test Sayısı', 'Bugünkü Vefat Sayısı', 'Bugünkü İyileşen Sayısı']\n"
          ]
        }
      ],
      "source": [
        "secondHeader = soup.findAll(\"tr\", {\"class\": \"sticky-header\"})[1]\n",
        "secondHeaderText = []\n",
        "for entry in secondHeader.findAll(\"th\"):\n",
        "    secondHeaderText.append(entry.text)\n",
        "print(secondHeaderText)"
      ]
    },
    {
      "attachments": {},
      "cell_type": "markdown",
      "metadata": {},
      "source": [
        "Finding the content of the second table "
      ]
    },
    {
      "cell_type": "code",
      "execution_count": 18,
      "metadata": {},
      "outputs": [
        {
          "name": "stdout",
          "output_type": "stream",
          "text": [
            "{'Tarih': '   31 MAYIS 2022  ', 'Toplam Test Sayısı': ' ', 'Toplam Vaka Sayısı': ' ', 'Toplam Vefat Sayısı': ' ', 'Hastalarda Zatürre Oranı (%)': ' ', 'Ağır Hasta Sayısı': ' ', 'Toplam İyileşen Hasta Sayısı': ' ', 'Bugünkü Vaka Sayısı': ' 975 ', 'Bugünkü Hasta Sayısı': ' ', 'Bugünkü Test Sayısı': ' 128.854 ', 'Bugünkü Vefat Sayısı': ' 4 ', 'Bugünkü İyileşen Sayısı': ' 946 '}\n"
          ]
        }
      ],
      "source": [
        "table = soup.find(\"tbody\", {\"id\" : \"TumVerileriGetir2\"})\n",
        "rows = []\n",
        "for entry in table.findAll(\"tr\"):\n",
        "    row = dict(zip(secondHeaderText, [value.text for value in entry.findAll(\"td\")]))\n",
        "    rows.append(row)\n",
        "\n",
        "print(rows[0])\n"
      ]
    },
    {
      "attachments": {},
      "cell_type": "markdown",
      "metadata": {},
      "source": [
        "Creating the dataframe "
      ]
    },
    {
      "cell_type": "code",
      "execution_count": 19,
      "metadata": {},
      "outputs": [
        {
          "data": {
            "text/html": [
              "<div>\n",
              "<style scoped>\n",
              "    .dataframe tbody tr th:only-of-type {\n",
              "        vertical-align: middle;\n",
              "    }\n",
              "\n",
              "    .dataframe tbody tr th {\n",
              "        vertical-align: top;\n",
              "    }\n",
              "\n",
              "    .dataframe thead th {\n",
              "        text-align: right;\n",
              "    }\n",
              "</style>\n",
              "<table border=\"1\" class=\"dataframe\">\n",
              "  <thead>\n",
              "    <tr style=\"text-align: right;\">\n",
              "      <th></th>\n",
              "      <th>Tarih</th>\n",
              "      <th>Toplam Test Sayısı</th>\n",
              "      <th>Toplam Vaka Sayısı</th>\n",
              "      <th>Toplam Vefat Sayısı</th>\n",
              "      <th>Hastalarda Zatürre Oranı (%)</th>\n",
              "      <th>Ağır Hasta Sayısı</th>\n",
              "      <th>Toplam İyileşen Hasta Sayısı</th>\n",
              "      <th>Bugünkü Vaka Sayısı</th>\n",
              "      <th>Bugünkü Hasta Sayısı</th>\n",
              "      <th>Bugünkü Test Sayısı</th>\n",
              "      <th>Bugünkü Vefat Sayısı</th>\n",
              "      <th>Bugünkü İyileşen Sayısı</th>\n",
              "    </tr>\n",
              "  </thead>\n",
              "  <tbody>\n",
              "    <tr>\n",
              "      <th>0</th>\n",
              "      <td>31 MAYIS 2022</td>\n",
              "      <td></td>\n",
              "      <td></td>\n",
              "      <td></td>\n",
              "      <td></td>\n",
              "      <td></td>\n",
              "      <td></td>\n",
              "      <td>975</td>\n",
              "      <td></td>\n",
              "      <td>128.854</td>\n",
              "      <td>4</td>\n",
              "      <td>946</td>\n",
              "    </tr>\n",
              "    <tr>\n",
              "      <th>1</th>\n",
              "      <td>30 MAYIS 2022</td>\n",
              "      <td></td>\n",
              "      <td></td>\n",
              "      <td></td>\n",
              "      <td></td>\n",
              "      <td></td>\n",
              "      <td></td>\n",
              "      <td>908</td>\n",
              "      <td></td>\n",
              "      <td>133.352</td>\n",
              "      <td>4</td>\n",
              "      <td>1.005</td>\n",
              "    </tr>\n",
              "    <tr>\n",
              "      <th>2</th>\n",
              "      <td>29 MAYIS 2022</td>\n",
              "      <td></td>\n",
              "      <td></td>\n",
              "      <td></td>\n",
              "      <td></td>\n",
              "      <td></td>\n",
              "      <td></td>\n",
              "      <td>864</td>\n",
              "      <td></td>\n",
              "      <td>129.961</td>\n",
              "      <td>2</td>\n",
              "      <td>1.107</td>\n",
              "    </tr>\n",
              "    <tr>\n",
              "      <th>3</th>\n",
              "      <td>28 MAYIS 2022</td>\n",
              "      <td></td>\n",
              "      <td></td>\n",
              "      <td></td>\n",
              "      <td></td>\n",
              "      <td></td>\n",
              "      <td></td>\n",
              "      <td>966</td>\n",
              "      <td></td>\n",
              "      <td>138.752</td>\n",
              "      <td>3</td>\n",
              "      <td>1.104</td>\n",
              "    </tr>\n",
              "    <tr>\n",
              "      <th>4</th>\n",
              "      <td>27 MAYIS 2022</td>\n",
              "      <td></td>\n",
              "      <td></td>\n",
              "      <td></td>\n",
              "      <td></td>\n",
              "      <td></td>\n",
              "      <td></td>\n",
              "      <td>940</td>\n",
              "      <td></td>\n",
              "      <td>134.252</td>\n",
              "      <td>4</td>\n",
              "      <td>1.237</td>\n",
              "    </tr>\n",
              "  </tbody>\n",
              "</table>\n",
              "</div>"
            ],
            "text/plain": [
              "                Tarih Toplam Test Sayısı Toplam Vaka Sayısı   \n",
              "0     31 MAYIS 2022                                          \\\n",
              "1     30 MAYIS 2022                                           \n",
              "2     29 MAYIS 2022                                           \n",
              "3     28 MAYIS 2022                                           \n",
              "4     27 MAYIS 2022                                           \n",
              "\n",
              "  Toplam Vefat Sayısı Hastalarda Zatürre Oranı (%) Ağır Hasta Sayısı   \n",
              "0                                                                     \\\n",
              "1                                                                      \n",
              "2                                                                      \n",
              "3                                                                      \n",
              "4                                                                      \n",
              "\n",
              "  Toplam İyileşen Hasta Sayısı Bugünkü Vaka Sayısı Bugünkü Hasta Sayısı   \n",
              "0                                             975                        \\\n",
              "1                                             908                         \n",
              "2                                             864                         \n",
              "3                                             966                         \n",
              "4                                             940                         \n",
              "\n",
              "  Bugünkü Test Sayısı Bugünkü Vefat Sayısı Bugünkü İyileşen Sayısı  \n",
              "0            128.854                    4                     946   \n",
              "1            133.352                    4                   1.005   \n",
              "2            129.961                    2                   1.107   \n",
              "3            138.752                    3                   1.104   \n",
              "4            134.252                    4                   1.237   "
            ]
          },
          "execution_count": 19,
          "metadata": {},
          "output_type": "execute_result"
        }
      ],
      "source": [
        "DailyStatisticDataFrame = pd.DataFrame(rows)\n",
        "DailyStatisticDataFrame.head()"
      ]
    },
    {
      "attachments": {},
      "cell_type": "markdown",
      "metadata": {},
      "source": [
        "Storing the dataframe as an excel file "
      ]
    },
    {
      "cell_type": "code",
      "execution_count": 20,
      "metadata": {},
      "outputs": [],
      "source": [
        "DailyStatisticDataFrame.to_excel(\"Daily_COVID19_Data.xlsx\", index = False)"
      ]
    }
  ],
  "metadata": {
    "colab": {
      "provenance": []
    },
    "kernelspec": {
      "display_name": "Python 3",
      "name": "python3"
    },
    "language_info": {
      "codemirror_mode": {
        "name": "ipython",
        "version": 3
      },
      "file_extension": ".py",
      "mimetype": "text/x-python",
      "name": "python",
      "nbconvert_exporter": "python",
      "pygments_lexer": "ipython3",
      "version": "3.11.0"
    }
  },
  "nbformat": 4,
  "nbformat_minor": 0
}
